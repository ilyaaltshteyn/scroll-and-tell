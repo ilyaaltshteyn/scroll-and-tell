{
 "cells": [
  {
   "cell_type": "code",
   "execution_count": 1,
   "metadata": {},
   "outputs": [],
   "source": [
    "import pandas as pd\n",
    "from matplotlib import pyplot as plt\n",
    "import numpy as np"
   ]
  },
  {
   "cell_type": "code",
   "execution_count": 2,
   "metadata": {},
   "outputs": [
    {
     "data": {
      "text/html": [
       "<div>\n",
       "<style scoped>\n",
       "    .dataframe tbody tr th:only-of-type {\n",
       "        vertical-align: middle;\n",
       "    }\n",
       "\n",
       "    .dataframe tbody tr th {\n",
       "        vertical-align: top;\n",
       "    }\n",
       "\n",
       "    .dataframe thead th {\n",
       "        text-align: right;\n",
       "    }\n",
       "</style>\n",
       "<table border=\"1\" class=\"dataframe\">\n",
       "  <thead>\n",
       "    <tr style=\"text-align: right;\">\n",
       "      <th></th>\n",
       "      <th>room_type</th>\n",
       "      <th>minimum_nights</th>\n",
       "      <th>price</th>\n",
       "    </tr>\n",
       "  </thead>\n",
       "  <tbody>\n",
       "    <tr>\n",
       "      <th>room_type</th>\n",
       "      <td>1.000000</td>\n",
       "      <td>-0.102199</td>\n",
       "      <td>-0.491517</td>\n",
       "    </tr>\n",
       "    <tr>\n",
       "      <th>minimum_nights</th>\n",
       "      <td>-0.102199</td>\n",
       "      <td>1.000000</td>\n",
       "      <td>-0.028234</td>\n",
       "    </tr>\n",
       "    <tr>\n",
       "      <th>price</th>\n",
       "      <td>-0.491517</td>\n",
       "      <td>-0.028234</td>\n",
       "      <td>1.000000</td>\n",
       "    </tr>\n",
       "  </tbody>\n",
       "</table>\n",
       "</div>"
      ],
      "text/plain": [
       "                room_type  minimum_nights     price\n",
       "room_type        1.000000       -0.102199 -0.491517\n",
       "minimum_nights  -0.102199        1.000000 -0.028234\n",
       "price           -0.491517       -0.028234  1.000000"
      ]
     },
     "execution_count": 2,
     "metadata": {},
     "output_type": "execute_result"
    }
   ],
   "source": [
    "df = pd.read_csv('listings.csv')\n",
    "\n",
    "df = df[df.minimum_nights < 30]\n",
    "df = df[df.price < 300]\n",
    "df = df[df.room_type.apply(lambda x: x in ('Entire home/apt', 'Private room'))]\n",
    "df['room_type'] = df['room_type'].replace({'Entire home/apt':1, 'Private room':2})\n",
    "df = df[['room_type', 'minimum_nights', 'price']]\n",
    "df.corr()"
   ]
  },
  {
   "cell_type": "code",
   "execution_count": 3,
   "metadata": {},
   "outputs": [
    {
     "data": {
      "text/plain": [
       "Text(0.5, 1.0, 'Price vs minimum nights for Airbnb listings,\\ncolored by accomodation type')"
      ]
     },
     "execution_count": 3,
     "metadata": {},
     "output_type": "execute_result"
    },
    {
     "data": {
      "image/png": "[encoded data removed]",
      "text/plain": [
       "<Figure size 432x288 with 1 Axes>"
      ]
     },
     "metadata": {
      "needs_background": "light"
     },
     "output_type": "display_data"
    }
   ],
   "source": [
    "df_sampled = df.sample(100)\n",
    "plt.scatter(x=df_sampled['minimum_nights'], y=df_sampled['price'], c=df_sampled['room_type'],\n",
    "           alpha=.4)\n",
    "plt.xlabel('min nights')\n",
    "plt.ylabel('price (euro)')\n",
    "plt.title('Price vs minimum nights for Airbnb listings,\\ncolored by accomodation type')"
   ]
  },
  {
   "cell_type": "code",
   "execution_count": 4,
   "metadata": {},
   "outputs": [],
   "source": [
    "df_sampled['room_type']=df_sampled['room_type'].replace({1:'Entire home', 2:'Private room'})\n",
    "df_sampled.to_csv('../berlin_airbnb.csv', index=False)"
   ]
  },
  {
   "cell_type": "code",
   "execution_count": 5,
   "metadata": {},
   "outputs": [],
   "source": [
    "def euclidean(x1, x2, y1, y2):\n",
    "    return np.sqrt((x2-x1)**2 + (y2-y1)**2)\n",
    "\n",
    "df_sampled_sorted = df_sampled\n",
    "df_sampled_sorted['distance'] = df_sampled.apply(\n",
    "    lambda r: euclidean(8, r['minimum_nights'], 160, r['price']),\n",
    "    axis=1\n",
    ")\n",
    "df_sampled_sorted = df_sampled.sort_values(by='distance')\n",
    "# part1 = df_sampled_sorted[:50]\n",
    "# part2 = df_sampled_sorted[51:].sample(100)\n",
    "df_sampled_sorted = df_sampled_sorted.sort_values(by='distance')\n",
    "df_sampled_sorted.to_csv('../berlin_airbnb_small.csv', index=False)"
   ]
  },
  {
   "cell_type": "code",
   "execution_count": 8,
   "metadata": {},
   "outputs": [
    {
     "data": {
      "text/plain": [
       "4"
      ]
     },
     "execution_count": 8,
     "metadata": {},
     "output_type": "execute_result"
    }
   ],
   "source": [
    "4 if 1 else 0"
   ]
  },
  {
   "cell_type": "code",
   "execution_count": null,
   "metadata": {},
   "outputs": [],
   "source": []
  }
 ],
 "metadata": {
  "kernelspec": {
   "display_name": "Python 3",
   "language": "python",
   "name": "python3"
  },
  "language_info": {
   "codemirror_mode": {
    "name": "ipython",
    "version": 3
   },
   "file_extension": ".py",
   "mimetype": "text/x-python",
   "name": "python",
   "nbconvert_exporter": "python",
   "pygments_lexer": "ipython3",
   "version": "3.7.4"
  }
 },
 "nbformat": 4,
 "nbformat_minor": 2
}
