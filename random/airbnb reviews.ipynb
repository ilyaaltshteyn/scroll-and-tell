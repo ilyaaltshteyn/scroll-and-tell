{
 "cells": [
  {
   "cell_type": "code",
   "execution_count": 1,
   "metadata": {},
   "outputs": [],
   "source": [
    "import pandas as pd\n",
    "from matplotlib import pyplot as plt\n",
    "import numpy as np"
   ]
  },
  {
   "cell_type": "code",
   "execution_count": 2,
   "metadata": {},
   "outputs": [
    {
     "data": {
      "text/plain": [
       "{1, 2}"
      ]
     },
     "execution_count": 2,
     "metadata": {},
     "output_type": "execute_result"
    }
   ],
   "source": [
    "df = pd.read_csv('listings.csv')\n",
    "\n",
    "df = df[df.minimum_nights < 30]\n",
    "df = df[df.price < 300]\n",
    "df = df[df.room_type.apply(lambda x: x in ('Entire home/apt', 'Private room'))]\n",
    "df['room_type'] = df['room_type'].replace({'Entire home/apt':1, 'Private room':2})\n",
    "\n",
    "df = df[['room_type', 'minimum_nights', 'price']].sample(n=100)\n",
    "set(df.room_type)"
   ]
  },
  {
   "cell_type": "code",
   "execution_count": 3,
   "metadata": {},
   "outputs": [
    {
     "data": {
      "text/html": [
       "<div>\n",
       "<style scoped>\n",
       "    .dataframe tbody tr th:only-of-type {\n",
       "        vertical-align: middle;\n",
       "    }\n",
       "\n",
       "    .dataframe tbody tr th {\n",
       "        vertical-align: top;\n",
       "    }\n",
       "\n",
       "    .dataframe thead th {\n",
       "        text-align: right;\n",
       "    }\n",
       "</style>\n",
       "<table border=\"1\" class=\"dataframe\">\n",
       "  <thead>\n",
       "    <tr style=\"text-align: right;\">\n",
       "      <th></th>\n",
       "      <th>room_type</th>\n",
       "      <th>minimum_nights</th>\n",
       "      <th>price</th>\n",
       "    </tr>\n",
       "  </thead>\n",
       "  <tbody>\n",
       "    <tr>\n",
       "      <th>room_type</th>\n",
       "      <td>1.000000</td>\n",
       "      <td>-0.025379</td>\n",
       "      <td>-0.536138</td>\n",
       "    </tr>\n",
       "    <tr>\n",
       "      <th>minimum_nights</th>\n",
       "      <td>-0.025379</td>\n",
       "      <td>1.000000</td>\n",
       "      <td>-0.136590</td>\n",
       "    </tr>\n",
       "    <tr>\n",
       "      <th>price</th>\n",
       "      <td>-0.536138</td>\n",
       "      <td>-0.136590</td>\n",
       "      <td>1.000000</td>\n",
       "    </tr>\n",
       "  </tbody>\n",
       "</table>\n",
       "</div>"
      ],
      "text/plain": [
       "                room_type  minimum_nights     price\n",
       "room_type        1.000000       -0.025379 -0.536138\n",
       "minimum_nights  -0.025379        1.000000 -0.136590\n",
       "price           -0.536138       -0.136590  1.000000"
      ]
     },
     "execution_count": 3,
     "metadata": {},
     "output_type": "execute_result"
    }
   ],
   "source": [
    "df.corr()"
   ]
  },
  {
   "cell_type": "code",
   "execution_count": 5,
   "metadata": {},
   "outputs": [
    {
     "data": {
      "text/plain": [
       "Text(0.5, 1.0, 'Price vs minimum nights for Airbnb listings,\\ncolored by accomodation type')"
      ]
     },
     "execution_count": 5,
     "metadata": {},
     "output_type": "execute_result"
    },
    {
     "data": {
      "image/png": "[encoded data removed]",
      "text/plain": [
       "<Figure size 432x288 with 1 Axes>"
      ]
     },
     "metadata": {
      "needs_background": "light"
     },
     "output_type": "display_data"
    }
   ],
   "source": [
    "plt.scatter(x=df['minimum_nights'], y=df['price'], c=df['room_type'],\n",
    "           alpha=.4)\n",
    "plt.xlabel('min nights')\n",
    "plt.ylabel('price (euro)')\n",
    "plt.title('Price vs minimum nights for Airbnb listings,\\ncolored by accomodation type')"
   ]
  },
  {
   "cell_type": "code",
   "execution_count": 27,
   "metadata": {},
   "outputs": [
    {
     "data": {
      "text/html": [
       "<div>\n",
       "<style scoped>\n",
       "    .dataframe tbody tr th:only-of-type {\n",
       "        vertical-align: middle;\n",
       "    }\n",
       "\n",
       "    .dataframe tbody tr th {\n",
       "        vertical-align: top;\n",
       "    }\n",
       "\n",
       "    .dataframe thead th {\n",
       "        text-align: right;\n",
       "    }\n",
       "</style>\n",
       "<table border=\"1\" class=\"dataframe\">\n",
       "  <thead>\n",
       "    <tr style=\"text-align: right;\">\n",
       "      <th></th>\n",
       "      <th>room_type</th>\n",
       "      <th>minimum_nights</th>\n",
       "      <th>price</th>\n",
       "    </tr>\n",
       "  </thead>\n",
       "  <tbody>\n",
       "    <tr>\n",
       "      <th>11754</th>\n",
       "      <td>2</td>\n",
       "      <td>25</td>\n",
       "      <td>60</td>\n",
       "    </tr>\n",
       "    <tr>\n",
       "      <th>980</th>\n",
       "      <td>2</td>\n",
       "      <td>27</td>\n",
       "      <td>25</td>\n",
       "    </tr>\n",
       "  </tbody>\n",
       "</table>\n",
       "</div>"
      ],
      "text/plain": [
       "       room_type  minimum_nights  price\n",
       "11754          2              25     60\n",
       "980            2              27     25"
      ]
     },
     "execution_count": 27,
     "metadata": {},
     "output_type": "execute_result"
    }
   ],
   "source": [
    "df[df.minimum_nights > 20]"
   ]
  },
  {
   "cell_type": "code",
   "execution_count": 18,
   "metadata": {},
   "outputs": [
    {
     "name": "stdout",
     "output_type": "stream",
     "text": [
      "table: '100', row: '4', data: 'Entire home/apt',\n",
      "table: '32', row: '2', data: 'Entire home/apt',\n",
      "table: '40', row: '6', data: 'Private room',\n",
      "table: '60', row: '1', data: 'Entire home/apt',\n",
      "table: '25', row: '2', data: 'Private room',\n",
      "table: '125', row: '3', data: 'Entire home/apt',\n",
      "table: '32', row: '1', data: 'Private room',\n",
      "table: '25', row: '2', data: 'Private room',\n",
      "table: '27', row: '3', data: 'Private room',\n",
      "table: '99', row: '1', data: 'Entire home/apt',\n",
      "table: '39', row: '2', data: 'Private room',\n",
      "table: '70', row: '1', data: 'Entire home/apt',\n",
      "table: '45', row: '3', data: 'Entire home/apt',\n",
      "table: '90', row: '1', data: 'Entire home/apt',\n",
      "table: '30', row: '2', data: 'Private room',\n",
      "table: '50', row: '5', data: 'Entire home/apt',\n"
     ]
    }
   ],
   "source": [
    "lookup = {1:'Entire home/apt', 2:'Private room'}\n",
    "for i, row in df.head(16).iterrows():\n",
    "    print(f\"table: '{row['price']}', row: '{row['minimum_nights']}', data: '{lookup[row['room_type']]}',\")"
   ]
  },
  {
   "cell_type": "code",
   "execution_count": 8,
   "metadata": {},
   "outputs": [
    {
     "data": {
      "text/plain": [
       "4"
      ]
     },
     "execution_count": 8,
     "metadata": {},
     "output_type": "execute_result"
    }
   ],
   "source": [
    "4 if 1 else 0"
   ]
  },
  {
   "cell_type": "code",
   "execution_count": null,
   "metadata": {},
   "outputs": [],
   "source": []
  }
 ],
 "metadata": {
  "kernelspec": {
   "display_name": "Python 3",
   "language": "python",
   "name": "python3"
  },
  "language_info": {
   "codemirror_mode": {
    "name": "ipython",
    "version": 3
   },
   "file_extension": ".py",
   "mimetype": "text/x-python",
   "name": "python",
   "nbconvert_exporter": "python",
   "pygments_lexer": "ipython3",
   "version": "3.7.4"
  }
 },
 "nbformat": 4,
 "nbformat_minor": 2
}
